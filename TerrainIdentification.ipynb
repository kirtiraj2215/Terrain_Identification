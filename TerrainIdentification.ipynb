{
  "cells": [
    {
      "cell_type": "code",
      "execution_count": null,
      "metadata": {
        "id": "FR-_wDd0bljQ"
      },
      "outputs": [],
      "source": [
        "!pip install segmentation-models-pytorch albumentations opencv-python matplotlib --quiet"
      ]
    },
    {
      "cell_type": "code",
      "execution_count": null,
      "metadata": {
        "id": "6-66nkXszxcL"
      },
      "outputs": [],
      "source": [
        "!sudo rm -rf *"
      ]
    },
    {
      "cell_type": "code",
      "execution_count": null,
      "metadata": {
        "id": "7dc67isVgCte"
      },
      "outputs": [],
      "source": [
        "zip_url = \"http://rugd.vision/data/RUGD_frames-with-annotations.zip\"\n",
        "zip_name = \"terrain_dataset.zip\"\n",
        "extract_to = \"/contents\"\n",
        "rename_from = \"RUGD_frames-with-annotations\"\n",
        "rename_to = \"raw\"\n",
        "\n",
        "import os\n",
        "import requests\n",
        "\n",
        "r = requests.get(zip_url, stream=True)\n",
        "with open(zip_name, 'wb') as f:\n",
        "    for chunk in r.iter_content(chunk_size=1024):\n",
        "        if chunk:\n",
        "            f.write(chunk)\n",
        "\n",
        "import zipfile\n",
        "\n",
        "with zipfile.ZipFile(zip_name, 'r') as zip_ref:\n",
        "    zip_ref.extractall(extract_to)\n",
        "\n",
        "os.rename(os.path.join(extract_to, rename_from), rename_to)\n",
        "\n",
        "os.remove(zip_name)"
      ]
    },
    {
      "cell_type": "code",
      "execution_count": null,
      "metadata": {
        "id": "ava6Z0Cs0m7Q"
      },
      "outputs": [],
      "source": [
        "zip_url = \"http://rugd.vision/data/RUGD_annotations.zip\"\n",
        "zip_name = \"RUGD_annotations.zip\"\n",
        "extract_to = \"data\"\n",
        "rename_from = \"RUGD_annotations\"\n",
        "rename_to = \"annotations\"\n",
        "\n",
        "import os\n",
        "import requests\n",
        "\n",
        "r = requests.get(zip_url, stream=True)\n",
        "with open(zip_name, 'wb') as f:\n",
        "    for chunk in r.iter_content(chunk_size=1024):\n",
        "        if chunk:\n",
        "            f.write(chunk)\n",
        "\n",
        "import zipfile\n",
        "\n",
        "with zipfile.ZipFile(zip_name, 'r') as zip_ref:\n",
        "    zip_ref.extractall(extract_to)\n",
        "\n",
        "os.rename(os.path.join(extract_to, rename_from), rename_to)\n",
        "\n",
        "os.remove(zip_name)"
      ]
    },
    {
      "cell_type": "code",
      "execution_count": null,
      "metadata": {
        "id": "oVHq-E9RMPEQ"
      },
      "outputs": [],
      "source": [
        "import os\n",
        "import shutil\n",
        "from glob import glob\n",
        "\n",
        "raw_root = '/content/raw'\n",
        "ann_root = '/content/annotations'\n",
        "\n",
        "os.makedirs('data/images', exist_ok=True)\n",
        "os.makedirs('data/masks', exist_ok=True)\n",
        "\n",
        "scene_folders = os.listdir(raw_root)\n",
        "\n",
        "copied = 0\n",
        "for scene in scene_folders:\n",
        "    raw_scene = os.path.join(raw_root, scene)\n",
        "    ann_scene = os.path.join(ann_root, scene)\n",
        "\n",
        "    if not os.path.isdir(raw_scene) or not os.path.isdir(ann_scene):\n",
        "        print(f\"Skipping non-folder: {scene}\")\n",
        "        continue\n",
        "\n",
        "    image_paths = sorted(glob(os.path.join(raw_scene, '*.*')))\n",
        "    mask_paths = sorted(glob(os.path.join(ann_scene, '*.*')))\n",
        "\n",
        "    for img_path in image_paths:\n",
        "        img_name = os.path.splitext(os.path.basename(img_path))[0]\n",
        "\n",
        "        possible_masks = [p for p in mask_paths if os.path.splitext(os.path.basename(p))[0] == img_name]\n",
        "        if not possible_masks:\n",
        "            print(f\"⚠️ No matching mask for {img_name}\")\n",
        "            continue\n",
        "        mask_path = possible_masks[0]\n",
        "\n",
        "        new_img_name = f\"{scene}_{os.path.basename(img_path)}\".replace(\" \", \"_\")\n",
        "        new_mask_name = f\"{scene}_{os.path.basename(mask_path)}\".replace(\" \", \"_\")\n",
        "\n",
        "        shutil.copy(img_path, os.path.join('data/images', new_img_name))\n",
        "        shutil.copy(mask_path, os.path.join('data/masks', new_mask_name))\n",
        "        copied += 1"
      ]
    },
    {
      "cell_type": "code",
      "execution_count": null,
      "metadata": {
        "id": "JEss6QmWNv23"
      },
      "outputs": [],
      "source": [
        "import os\n",
        "import random\n",
        "\n",
        "image_dir = 'data/images'\n",
        "mask_dir = 'data/masks'\n",
        "split_dir = 'data/splits'\n",
        "os.makedirs(split_dir, exist_ok=True)\n",
        "\n",
        "image_files = sorted(os.listdir(image_dir))\n",
        "\n",
        "image_files = [f for f in image_files if f.endswith(('.jpg', '.jpeg', '.png'))]\n",
        "\n",
        "random.seed(42)\n",
        "random.shuffle(image_files)\n",
        "\n",
        "total = len(image_files)\n",
        "train_split = int(0.7 * total)\n",
        "val_split = int(0.85 * total)\n",
        "\n",
        "train_files = image_files[:train_split]\n",
        "val_files = image_files[train_split:val_split]\n",
        "test_files = image_files[val_split:]\n",
        "\n",
        "def save_list(file_list, path):\n",
        "    with open(path, 'w') as f:\n",
        "        for name in file_list:\n",
        "            f.write(name + '\\n')\n",
        "\n",
        "save_list(train_files, os.path.join(split_dir, 'train.txt'))\n",
        "save_list(val_files, os.path.join(split_dir, 'val.txt'))\n",
        "save_list(test_files, os.path.join(split_dir, 'test.txt'))"
      ]
    },
    {
      "cell_type": "code",
      "execution_count": null,
      "metadata": {
        "id": "hZxPWmojN4-5"
      },
      "outputs": [],
      "source": [
        "import os\n",
        "from torch.utils.data import Dataset\n",
        "from PIL import Image\n",
        "import numpy as np\n",
        "import torch\n",
        "import albumentations as A\n",
        "from albumentations.pytorch import ToTensorV2\n",
        "\n",
        "class TerrainDataset(Dataset):\n",
        "    def __init__(self, list_file, image_dir, mask_dir, transform=None):\n",
        "        with open(list_file, 'r') as f:\n",
        "            self.filenames = [line.strip() for line in f.readlines()]\n",
        "\n",
        "        self.image_dir = image_dir\n",
        "        self.mask_dir = mask_dir\n",
        "        self.transform = transform\n",
        "\n",
        "    def __len__(self):\n",
        "        return len(self.filenames)\n",
        "\n",
        "    def __getitem__(self, idx):\n",
        "      image_name = self.filenames[idx]\n",
        "      mask_name = image_name.replace('.jpg', '.png').replace('.jpeg', '.png')\n",
        "\n",
        "      image_path = os.path.join(self.image_dir, image_name)\n",
        "      mask_path = os.path.join(self.mask_dir, mask_name)\n",
        "\n",
        "      image = np.array(Image.open(image_path).convert('RGB'))\n",
        "      mask = np.array(Image.open(mask_path).convert('L')).astype(np.int64)\n",
        "\n",
        "      class_mask = np.full_like(mask, fill_value=255)\n",
        "\n",
        "      class_mask[(mask >= 0)   & (mask <= 50)]   = 0  # road\n",
        "      class_mask[(mask > 50)  & (mask <= 100)]  = 1  # grass\n",
        "      class_mask[(mask > 100) & (mask <= 150)]  = 2  # rocks\n",
        "      class_mask[(mask > 150) & (mask <= 200)]  = 3  # mud\n",
        "      class_mask[(mask > 200)]                  = 4  # water\n",
        "\n",
        "      mask = class_mask\n",
        "\n",
        "      if self.transform:\n",
        "          augmented = self.transform(image=image, mask=mask)\n",
        "          image = augmented['image']\n",
        "          mask = augmented['mask']\n",
        "\n",
        "      return image, mask.long()"
      ]
    },
    {
      "cell_type": "code",
      "execution_count": null,
      "metadata": {
        "id": "zG2tF8opOPPi"
      },
      "outputs": [],
      "source": [
        "def get_transforms(train=True):\n",
        "    if train:\n",
        "        return A.Compose([\n",
        "            A.Resize(512, 512),\n",
        "            A.HorizontalFlip(p=0.5),\n",
        "            A.RandomBrightnessContrast(p=0.2),\n",
        "            A.Normalize(mean=(0.485, 0.456, 0.406),\n",
        "                        std=(0.229, 0.224, 0.225)),\n",
        "            ToTensorV2()\n",
        "        ])\n",
        "    else:\n",
        "        return A.Compose([\n",
        "            A.Resize(512, 512),\n",
        "            A.Normalize(mean=(0.485, 0.456, 0.406),\n",
        "                        std=(0.229, 0.224, 0.225)),\n",
        "            ToTensorV2()\n",
        "        ])"
      ]
    },
    {
      "cell_type": "code",
      "execution_count": null,
      "metadata": {
        "id": "eH0fJxYOOTKc"
      },
      "outputs": [],
      "source": [
        "from torch.utils.data import DataLoader\n",
        "\n",
        "train_dataset = TerrainDataset(\n",
        "    list_file='data/splits/train.txt',\n",
        "    image_dir='data/images',\n",
        "    mask_dir='data/masks',\n",
        "    transform=get_transforms(train=True)\n",
        ")\n",
        "\n",
        "val_dataset = TerrainDataset(\n",
        "    list_file='data/splits/val.txt',\n",
        "    image_dir='data/images',\n",
        "    mask_dir='data/masks',\n",
        "    transform=get_transforms(train=False)\n",
        ")\n",
        "\n",
        "train_loader = DataLoader(train_dataset, batch_size=4, shuffle=True)\n",
        "val_loader = DataLoader(val_dataset, batch_size=4)"
      ]
    },
    {
      "cell_type": "code",
      "execution_count": null,
      "metadata": {
        "id": "1ajM51CLOUlD"
      },
      "outputs": [],
      "source": [
        "import segmentation_models_pytorch as smp\n",
        "\n",
        "model = smp.DeepLabV3Plus(\n",
        "    encoder_name=\"resnet34\",\n",
        "    encoder_weights=\"imagenet\",\n",
        "    in_channels=3,\n",
        "    classes=5,\n",
        "    decoder_use_batchnorm=False\n",
        ")\n",
        "\n",
        "import torch.nn as nn\n",
        "\n",
        "def convert_batchnorm_to_groupnorm(module):\n",
        "    for name, child in module.named_children():\n",
        "        if isinstance(child, nn.BatchNorm2d):\n",
        "            num_channels = child.num_features\n",
        "            for g in [32, 16, 8, 4, 2, 1]:\n",
        "                if num_channels % g == 0:\n",
        "                    num_groups = g\n",
        "                    break\n",
        "            setattr(module, name, nn.GroupNorm(num_groups=num_groups, num_channels=num_channels))\n",
        "        else:\n",
        "            convert_batchnorm_to_groupnorm(child)\n",
        "\n",
        "convert_batchnorm_to_groupnorm(model)"
      ]
    },
    {
      "cell_type": "code",
      "execution_count": null,
      "metadata": {
        "colab": {
          "base_uri": "https://localhost:8080/"
        },
        "id": "dzF62wklPcEp",
        "outputId": "cc954032-852b-428a-b72b-6b2de3fad2b0"
      },
      "outputs": [
        {
          "name": "stdout",
          "output_type": "stream",
          "text": [
            "DeepLabV3Plus(\n",
            "  (encoder): ResNetEncoder(\n",
            "    (conv1): Conv2d(3, 64, kernel_size=(7, 7), stride=(2, 2), padding=(3, 3), bias=False)\n",
            "    (bn1): GroupNorm(32, 64, eps=1e-05, affine=True)\n",
            "    (relu): ReLU(inplace=True)\n",
            "    (maxpool): MaxPool2d(kernel_size=3, stride=2, padding=1, dilation=1, ceil_mode=False)\n",
            "    (layer1): Sequential(\n",
            "      (0): BasicBlock(\n",
            "        (conv1): Conv2d(64, 64, kernel_size=(3, 3), stride=(1, 1), padding=(1, 1), bias=False)\n",
            "        (bn1): GroupNorm(32, 64, eps=1e-05, affine=True)\n",
            "        (relu): ReLU(inplace=True)\n",
            "        (conv2): Conv2d(64, 64, kernel_size=(3, 3), stride=(1, 1), padding=(1, 1), bias=False)\n",
            "        (bn2): GroupNorm(32, 64, eps=1e-05, affine=True)\n",
            "      )\n",
            "      (1): BasicBlock(\n",
            "        (conv1): Conv2d(64, 64, kernel_size=(3, 3), stride=(1, 1), padding=(1, 1), bias=False)\n",
            "        (bn1): GroupNorm(32, 64, eps=1e-05, affine=True)\n",
            "        (relu): ReLU(inplace=True)\n",
            "        (conv2): Conv2d(64, 64, kernel_size=(3, 3), stride=(1, 1), padding=(1, 1), bias=False)\n",
            "        (bn2): GroupNorm(32, 64, eps=1e-05, affine=True)\n",
            "      )\n",
            "      (2): BasicBlock(\n",
            "        (conv1): Conv2d(64, 64, kernel_size=(3, 3), stride=(1, 1), padding=(1, 1), bias=False)\n",
            "        (bn1): GroupNorm(32, 64, eps=1e-05, affine=True)\n",
            "        (relu): ReLU(inplace=True)\n",
            "        (conv2): Conv2d(64, 64, kernel_size=(3, 3), stride=(1, 1), padding=(1, 1), bias=False)\n",
            "        (bn2): GroupNorm(32, 64, eps=1e-05, affine=True)\n",
            "      )\n",
            "    )\n",
            "    (layer2): Sequential(\n",
            "      (0): BasicBlock(\n",
            "        (conv1): Conv2d(64, 128, kernel_size=(3, 3), stride=(2, 2), padding=(1, 1), bias=False)\n",
            "        (bn1): GroupNorm(32, 128, eps=1e-05, affine=True)\n",
            "        (relu): ReLU(inplace=True)\n",
            "        (conv2): Conv2d(128, 128, kernel_size=(3, 3), stride=(1, 1), padding=(1, 1), bias=False)\n",
            "        (bn2): GroupNorm(32, 128, eps=1e-05, affine=True)\n",
            "        (downsample): Sequential(\n",
            "          (0): Conv2d(64, 128, kernel_size=(1, 1), stride=(2, 2), bias=False)\n",
            "          (1): GroupNorm(32, 128, eps=1e-05, affine=True)\n",
            "        )\n",
            "      )\n",
            "      (1): BasicBlock(\n",
            "        (conv1): Conv2d(128, 128, kernel_size=(3, 3), stride=(1, 1), padding=(1, 1), bias=False)\n",
            "        (bn1): GroupNorm(32, 128, eps=1e-05, affine=True)\n",
            "        (relu): ReLU(inplace=True)\n",
            "        (conv2): Conv2d(128, 128, kernel_size=(3, 3), stride=(1, 1), padding=(1, 1), bias=False)\n",
            "        (bn2): GroupNorm(32, 128, eps=1e-05, affine=True)\n",
            "      )\n",
            "      (2): BasicBlock(\n",
            "        (conv1): Conv2d(128, 128, kernel_size=(3, 3), stride=(1, 1), padding=(1, 1), bias=False)\n",
            "        (bn1): GroupNorm(32, 128, eps=1e-05, affine=True)\n",
            "        (relu): ReLU(inplace=True)\n",
            "        (conv2): Conv2d(128, 128, kernel_size=(3, 3), stride=(1, 1), padding=(1, 1), bias=False)\n",
            "        (bn2): GroupNorm(32, 128, eps=1e-05, affine=True)\n",
            "      )\n",
            "      (3): BasicBlock(\n",
            "        (conv1): Conv2d(128, 128, kernel_size=(3, 3), stride=(1, 1), padding=(1, 1), bias=False)\n",
            "        (bn1): GroupNorm(32, 128, eps=1e-05, affine=True)\n",
            "        (relu): ReLU(inplace=True)\n",
            "        (conv2): Conv2d(128, 128, kernel_size=(3, 3), stride=(1, 1), padding=(1, 1), bias=False)\n",
            "        (bn2): GroupNorm(32, 128, eps=1e-05, affine=True)\n",
            "      )\n",
            "    )\n",
            "    (layer3): Sequential(\n",
            "      (0): BasicBlock(\n",
            "        (conv1): Conv2d(128, 256, kernel_size=(3, 3), stride=(2, 2), padding=(1, 1), bias=False)\n",
            "        (bn1): GroupNorm(32, 256, eps=1e-05, affine=True)\n",
            "        (relu): ReLU(inplace=True)\n",
            "        (conv2): Conv2d(256, 256, kernel_size=(3, 3), stride=(1, 1), padding=(1, 1), bias=False)\n",
            "        (bn2): GroupNorm(32, 256, eps=1e-05, affine=True)\n",
            "        (downsample): Sequential(\n",
            "          (0): Conv2d(128, 256, kernel_size=(1, 1), stride=(2, 2), bias=False)\n",
            "          (1): GroupNorm(32, 256, eps=1e-05, affine=True)\n",
            "        )\n",
            "      )\n",
            "      (1): BasicBlock(\n",
            "        (conv1): Conv2d(256, 256, kernel_size=(3, 3), stride=(1, 1), padding=(1, 1), bias=False)\n",
            "        (bn1): GroupNorm(32, 256, eps=1e-05, affine=True)\n",
            "        (relu): ReLU(inplace=True)\n",
            "        (conv2): Conv2d(256, 256, kernel_size=(3, 3), stride=(1, 1), padding=(1, 1), bias=False)\n",
            "        (bn2): GroupNorm(32, 256, eps=1e-05, affine=True)\n",
            "      )\n",
            "      (2): BasicBlock(\n",
            "        (conv1): Conv2d(256, 256, kernel_size=(3, 3), stride=(1, 1), padding=(1, 1), bias=False)\n",
            "        (bn1): GroupNorm(32, 256, eps=1e-05, affine=True)\n",
            "        (relu): ReLU(inplace=True)\n",
            "        (conv2): Conv2d(256, 256, kernel_size=(3, 3), stride=(1, 1), padding=(1, 1), bias=False)\n",
            "        (bn2): GroupNorm(32, 256, eps=1e-05, affine=True)\n",
            "      )\n",
            "      (3): BasicBlock(\n",
            "        (conv1): Conv2d(256, 256, kernel_size=(3, 3), stride=(1, 1), padding=(1, 1), bias=False)\n",
            "        (bn1): GroupNorm(32, 256, eps=1e-05, affine=True)\n",
            "        (relu): ReLU(inplace=True)\n",
            "        (conv2): Conv2d(256, 256, kernel_size=(3, 3), stride=(1, 1), padding=(1, 1), bias=False)\n",
            "        (bn2): GroupNorm(32, 256, eps=1e-05, affine=True)\n",
            "      )\n",
            "      (4): BasicBlock(\n",
            "        (conv1): Conv2d(256, 256, kernel_size=(3, 3), stride=(1, 1), padding=(1, 1), bias=False)\n",
            "        (bn1): GroupNorm(32, 256, eps=1e-05, affine=True)\n",
            "        (relu): ReLU(inplace=True)\n",
            "        (conv2): Conv2d(256, 256, kernel_size=(3, 3), stride=(1, 1), padding=(1, 1), bias=False)\n",
            "        (bn2): GroupNorm(32, 256, eps=1e-05, affine=True)\n",
            "      )\n",
            "      (5): BasicBlock(\n",
            "        (conv1): Conv2d(256, 256, kernel_size=(3, 3), stride=(1, 1), padding=(1, 1), bias=False)\n",
            "        (bn1): GroupNorm(32, 256, eps=1e-05, affine=True)\n",
            "        (relu): ReLU(inplace=True)\n",
            "        (conv2): Conv2d(256, 256, kernel_size=(3, 3), stride=(1, 1), padding=(1, 1), bias=False)\n",
            "        (bn2): GroupNorm(32, 256, eps=1e-05, affine=True)\n",
            "      )\n",
            "    )\n",
            "    (layer4): Sequential(\n",
            "      (0): BasicBlock(\n",
            "        (conv1): Conv2d(256, 512, kernel_size=(3, 3), stride=(1, 1), padding=(2, 2), dilation=(2, 2), bias=False)\n",
            "        (bn1): GroupNorm(32, 512, eps=1e-05, affine=True)\n",
            "        (relu): ReLU(inplace=True)\n",
            "        (conv2): Conv2d(512, 512, kernel_size=(3, 3), stride=(1, 1), padding=(2, 2), dilation=(2, 2), bias=False)\n",
            "        (bn2): GroupNorm(32, 512, eps=1e-05, affine=True)\n",
            "        (downsample): Sequential(\n",
            "          (0): Conv2d(256, 512, kernel_size=(1, 1), stride=(1, 1), dilation=(2, 2), bias=False)\n",
            "          (1): GroupNorm(32, 512, eps=1e-05, affine=True)\n",
            "        )\n",
            "      )\n",
            "      (1): BasicBlock(\n",
            "        (conv1): Conv2d(512, 512, kernel_size=(3, 3), stride=(1, 1), padding=(2, 2), dilation=(2, 2), bias=False)\n",
            "        (bn1): GroupNorm(32, 512, eps=1e-05, affine=True)\n",
            "        (relu): ReLU(inplace=True)\n",
            "        (conv2): Conv2d(512, 512, kernel_size=(3, 3), stride=(1, 1), padding=(2, 2), dilation=(2, 2), bias=False)\n",
            "        (bn2): GroupNorm(32, 512, eps=1e-05, affine=True)\n",
            "      )\n",
            "      (2): BasicBlock(\n",
            "        (conv1): Conv2d(512, 512, kernel_size=(3, 3), stride=(1, 1), padding=(2, 2), dilation=(2, 2), bias=False)\n",
            "        (bn1): GroupNorm(32, 512, eps=1e-05, affine=True)\n",
            "        (relu): ReLU(inplace=True)\n",
            "        (conv2): Conv2d(512, 512, kernel_size=(3, 3), stride=(1, 1), padding=(2, 2), dilation=(2, 2), bias=False)\n",
            "        (bn2): GroupNorm(32, 512, eps=1e-05, affine=True)\n",
            "      )\n",
            "    )\n",
            "  )\n",
            "  (decoder): DeepLabV3PlusDecoder(\n",
            "    (aspp): Sequential(\n",
            "      (0): ASPP(\n",
            "        (convs): ModuleList(\n",
            "          (0): Sequential(\n",
            "            (0): Conv2d(512, 256, kernel_size=(1, 1), stride=(1, 1), bias=False)\n",
            "            (1): GroupNorm(32, 256, eps=1e-05, affine=True)\n",
            "            (2): ReLU()\n",
            "          )\n",
            "          (1): ASPPSeparableConv(\n",
            "            (0): SeparableConv2d(\n",
            "              (0): Conv2d(512, 512, kernel_size=(3, 3), stride=(1, 1), padding=(12, 12), dilation=(12, 12), groups=512, bias=False)\n",
            "              (1): Conv2d(512, 256, kernel_size=(1, 1), stride=(1, 1), bias=False)\n",
            "            )\n",
            "            (1): GroupNorm(32, 256, eps=1e-05, affine=True)\n",
            "            (2): ReLU()\n",
            "          )\n",
            "          (2): ASPPSeparableConv(\n",
            "            (0): SeparableConv2d(\n",
            "              (0): Conv2d(512, 512, kernel_size=(3, 3), stride=(1, 1), padding=(24, 24), dilation=(24, 24), groups=512, bias=False)\n",
            "              (1): Conv2d(512, 256, kernel_size=(1, 1), stride=(1, 1), bias=False)\n",
            "            )\n",
            "            (1): GroupNorm(32, 256, eps=1e-05, affine=True)\n",
            "            (2): ReLU()\n",
            "          )\n",
            "          (3): ASPPSeparableConv(\n",
            "            (0): SeparableConv2d(\n",
            "              (0): Conv2d(512, 512, kernel_size=(3, 3), stride=(1, 1), padding=(36, 36), dilation=(36, 36), groups=512, bias=False)\n",
            "              (1): Conv2d(512, 256, kernel_size=(1, 1), stride=(1, 1), bias=False)\n",
            "            )\n",
            "            (1): GroupNorm(32, 256, eps=1e-05, affine=True)\n",
            "            (2): ReLU()\n",
            "          )\n",
            "          (4): ASPPPooling(\n",
            "            (0): AdaptiveAvgPool2d(output_size=1)\n",
            "            (1): Conv2d(512, 256, kernel_size=(1, 1), stride=(1, 1), bias=False)\n",
            "            (2): GroupNorm(32, 256, eps=1e-05, affine=True)\n",
            "            (3): ReLU()\n",
            "          )\n",
            "        )\n",
            "        (project): Sequential(\n",
            "          (0): Conv2d(1280, 256, kernel_size=(1, 1), stride=(1, 1), bias=False)\n",
            "          (1): GroupNorm(32, 256, eps=1e-05, affine=True)\n",
            "          (2): ReLU()\n",
            "          (3): Dropout(p=0.5, inplace=False)\n",
            "        )\n",
            "      )\n",
            "      (1): SeparableConv2d(\n",
            "        (0): Conv2d(256, 256, kernel_size=(3, 3), stride=(1, 1), padding=(1, 1), groups=256, bias=False)\n",
            "        (1): Conv2d(256, 256, kernel_size=(1, 1), stride=(1, 1), bias=False)\n",
            "      )\n",
            "      (2): GroupNorm(32, 256, eps=1e-05, affine=True)\n",
            "      (3): ReLU()\n",
            "    )\n",
            "    (up): UpsamplingBilinear2d(scale_factor=4.0, mode='bilinear')\n",
            "    (block1): Sequential(\n",
            "      (0): Conv2d(64, 48, kernel_size=(1, 1), stride=(1, 1), bias=False)\n",
            "      (1): GroupNorm(16, 48, eps=1e-05, affine=True)\n",
            "      (2): ReLU()\n",
            "    )\n",
            "    (block2): Sequential(\n",
            "      (0): SeparableConv2d(\n",
            "        (0): Conv2d(304, 304, kernel_size=(3, 3), stride=(1, 1), padding=(1, 1), groups=304, bias=False)\n",
            "        (1): Conv2d(304, 256, kernel_size=(1, 1), stride=(1, 1), bias=False)\n",
            "      )\n",
            "      (1): GroupNorm(32, 256, eps=1e-05, affine=True)\n",
            "      (2): ReLU()\n",
            "    )\n",
            "  )\n",
            "  (segmentation_head): SegmentationHead(\n",
            "    (0): Conv2d(256, 5, kernel_size=(1, 1), stride=(1, 1))\n",
            "    (1): UpsamplingBilinear2d(scale_factor=4.0, mode='bilinear')\n",
            "    (2): Activation(\n",
            "      (activation): Identity()\n",
            "    )\n",
            "  )\n",
            ")\n"
          ]
        }
      ],
      "source": [
        "print(model)"
      ]
    },
    {
      "cell_type": "code",
      "execution_count": null,
      "metadata": {
        "id": "SzH6MTL4OtMn"
      },
      "outputs": [],
      "source": [
        "import torch.nn as nn\n",
        "import torch.optim as optim\n",
        "\n",
        "loss_fn = nn.CrossEntropyLoss()\n",
        "\n",
        "optimizer = optim.Adam(model.parameters(), lr=1e-4)\n",
        "\n",
        "scheduler = optim.lr_scheduler.StepLR(optimizer, step_size=10, gamma=0.5)"
      ]
    },
    {
      "cell_type": "code",
      "execution_count": null,
      "metadata": {
        "id": "gAIuj5nTO_x8"
      },
      "outputs": [],
      "source": [
        "import torch\n",
        "from tqdm import tqdm\n",
        "\n",
        "def train_one_epoch(model, dataloader, optimizer, loss_fn):\n",
        "    model.train()\n",
        "    running_loss = 0.0\n",
        "\n",
        "    for images, masks in tqdm(dataloader):\n",
        "        images, masks = images.to(device), masks.to(device)\n",
        "\n",
        "        if images.size(0) == 1 or images.shape[-1] < 32 or images.shape[-2] < 32:\n",
        "          continue\n",
        "\n",
        "        masks = masks.squeeze(1)\n",
        "\n",
        "        optimizer.zero_grad()\n",
        "        outputs = model(images)\n",
        "        loss = loss_fn(outputs, masks)\n",
        "        loss.backward()\n",
        "        optimizer.step()\n",
        "\n",
        "        running_loss += loss.item() * images.size(0)\n",
        "\n",
        "    return running_loss / len(dataloader.dataset)\n",
        "\n",
        "def validate(model, dataloader, loss_fn):\n",
        "    model.eval()\n",
        "    running_loss = 0.0\n",
        "    total_pixels = 0\n",
        "    correct_pixels = 0\n",
        "\n",
        "    with torch.no_grad():\n",
        "        for images, masks in dataloader:\n",
        "            images, masks = images.to(device), masks.to(device)\n",
        "            outputs = model(images)\n",
        "            loss = loss_fn(outputs, masks)\n",
        "            running_loss += loss.item() * images.size(0)\n",
        "\n",
        "            preds = torch.argmax(outputs, dim=1)\n",
        "            correct_pixels += (preds == masks).sum().item()\n",
        "            total_pixels += masks.numel()\n",
        "\n",
        "    accuracy = correct_pixels / total_pixels\n",
        "    return running_loss / len(dataloader.dataset), accuracy"
      ]
    },
    {
      "cell_type": "code",
      "execution_count": null,
      "metadata": {
        "id": "Zhv1t7f-aGAM"
      },
      "outputs": [],
      "source": [
        "device = torch.device('cuda' if torch.cuda.is_available() else 'cpu')\n",
        "model = model.to(device)"
      ]
    },
    {
      "cell_type": "code",
      "execution_count": null,
      "metadata": {
        "colab": {
          "base_uri": "https://localhost:8080/"
        },
        "id": "V2jGbCrtPA_8",
        "outputId": "c3cf16d3-130d-48ea-af7d-2c909b6ce182"
      },
      "outputs": [
        {
          "name": "stdout",
          "output_type": "stream",
          "text": [
            "\n",
            "Epoch 1/20\n"
          ]
        },
        {
          "name": "stderr",
          "output_type": "stream",
          "text": [
            "100%|██████████| 1302/1302 [07:17<00:00,  2.98it/s]\n"
          ]
        },
        {
          "name": "stdout",
          "output_type": "stream",
          "text": [
            "Train Loss: 0.4334 | Val Loss: 0.3247 | Val Acc: 0.8876\n",
            "Saved best model.\n",
            "\n",
            "Epoch 2/20\n"
          ]
        },
        {
          "name": "stderr",
          "output_type": "stream",
          "text": [
            "100%|██████████| 1302/1302 [07:16<00:00,  2.98it/s]\n"
          ]
        },
        {
          "name": "stdout",
          "output_type": "stream",
          "text": [
            "Train Loss: 0.3019 | Val Loss: 0.2770 | Val Acc: 0.9026\n",
            "Saved best model.\n",
            "\n",
            "Epoch 3/20\n"
          ]
        },
        {
          "name": "stderr",
          "output_type": "stream",
          "text": [
            "100%|██████████| 1302/1302 [07:14<00:00,  3.00it/s]\n"
          ]
        },
        {
          "name": "stdout",
          "output_type": "stream",
          "text": [
            "Train Loss: 0.2686 | Val Loss: 0.2587 | Val Acc: 0.9086\n",
            "Saved best model.\n",
            "\n",
            "Epoch 4/20\n"
          ]
        },
        {
          "name": "stderr",
          "output_type": "stream",
          "text": [
            "100%|██████████| 1302/1302 [07:15<00:00,  2.99it/s]\n"
          ]
        },
        {
          "name": "stdout",
          "output_type": "stream",
          "text": [
            "Train Loss: 0.2439 | Val Loss: 0.2547 | Val Acc: 0.9102\n",
            "Saved best model.\n",
            "\n",
            "Epoch 5/20\n"
          ]
        },
        {
          "name": "stderr",
          "output_type": "stream",
          "text": [
            "100%|██████████| 1302/1302 [07:15<00:00,  2.99it/s]\n"
          ]
        },
        {
          "name": "stdout",
          "output_type": "stream",
          "text": [
            "Train Loss: 0.2285 | Val Loss: 0.2354 | Val Acc: 0.9171\n",
            "Saved best model.\n",
            "\n",
            "Epoch 6/20\n"
          ]
        },
        {
          "name": "stderr",
          "output_type": "stream",
          "text": [
            "100%|██████████| 1302/1302 [07:15<00:00,  2.99it/s]\n"
          ]
        },
        {
          "name": "stdout",
          "output_type": "stream",
          "text": [
            "Train Loss: 0.2215 | Val Loss: 0.2433 | Val Acc: 0.9152\n",
            "\n",
            "Epoch 7/20\n"
          ]
        },
        {
          "name": "stderr",
          "output_type": "stream",
          "text": [
            "100%|██████████| 1302/1302 [07:14<00:00,  3.00it/s]\n"
          ]
        },
        {
          "name": "stdout",
          "output_type": "stream",
          "text": [
            "Train Loss: 0.2086 | Val Loss: 0.2210 | Val Acc: 0.9214\n",
            "Saved best model.\n",
            "\n",
            "Epoch 8/20\n"
          ]
        },
        {
          "name": "stderr",
          "output_type": "stream",
          "text": [
            "100%|██████████| 1302/1302 [07:14<00:00,  3.00it/s]\n"
          ]
        },
        {
          "name": "stdout",
          "output_type": "stream",
          "text": [
            "Train Loss: 0.2016 | Val Loss: 0.2259 | Val Acc: 0.9199\n",
            "\n",
            "Epoch 9/20\n"
          ]
        },
        {
          "name": "stderr",
          "output_type": "stream",
          "text": [
            "100%|██████████| 1302/1302 [07:21<00:00,  2.95it/s]\n"
          ]
        },
        {
          "name": "stdout",
          "output_type": "stream",
          "text": [
            "Train Loss: 0.1961 | Val Loss: 0.2162 | Val Acc: 0.9235\n",
            "Saved best model.\n",
            "\n",
            "Epoch 10/20\n"
          ]
        },
        {
          "name": "stderr",
          "output_type": "stream",
          "text": [
            "100%|██████████| 1302/1302 [07:25<00:00,  2.92it/s]\n"
          ]
        },
        {
          "name": "stdout",
          "output_type": "stream",
          "text": [
            "Train Loss: 0.1975 | Val Loss: 0.2036 | Val Acc: 0.9278\n",
            "Saved best model.\n",
            "\n",
            "Epoch 11/20\n"
          ]
        },
        {
          "name": "stderr",
          "output_type": "stream",
          "text": [
            "100%|██████████| 1302/1302 [07:21<00:00,  2.95it/s]\n"
          ]
        },
        {
          "name": "stdout",
          "output_type": "stream",
          "text": [
            "Train Loss: 0.1731 | Val Loss: 0.1989 | Val Acc: 0.9292\n",
            "Saved best model.\n",
            "\n",
            "Epoch 12/20\n"
          ]
        },
        {
          "name": "stderr",
          "output_type": "stream",
          "text": [
            "100%|██████████| 1302/1302 [07:21<00:00,  2.95it/s]\n"
          ]
        },
        {
          "name": "stdout",
          "output_type": "stream",
          "text": [
            "Train Loss: 0.1714 | Val Loss: 0.1994 | Val Acc: 0.9288\n",
            "\n",
            "Epoch 13/20\n"
          ]
        },
        {
          "name": "stderr",
          "output_type": "stream",
          "text": [
            "100%|██████████| 1302/1302 [07:25<00:00,  2.92it/s]\n"
          ]
        },
        {
          "name": "stdout",
          "output_type": "stream",
          "text": [
            "Train Loss: 0.1670 | Val Loss: 0.1966 | Val Acc: 0.9296\n",
            "Saved best model.\n",
            "\n",
            "Epoch 14/20\n"
          ]
        },
        {
          "name": "stderr",
          "output_type": "stream",
          "text": [
            "100%|██████████| 1302/1302 [07:26<00:00,  2.92it/s]\n"
          ]
        },
        {
          "name": "stdout",
          "output_type": "stream",
          "text": [
            "Train Loss: 0.1637 | Val Loss: 0.1919 | Val Acc: 0.9322\n",
            "Saved best model.\n",
            "\n",
            "Epoch 15/20\n"
          ]
        },
        {
          "name": "stderr",
          "output_type": "stream",
          "text": [
            "100%|██████████| 1302/1302 [07:24<00:00,  2.93it/s]\n"
          ]
        },
        {
          "name": "stdout",
          "output_type": "stream",
          "text": [
            "Train Loss: 0.1629 | Val Loss: 0.1953 | Val Acc: 0.9297\n",
            "\n",
            "Epoch 16/20\n"
          ]
        },
        {
          "name": "stderr",
          "output_type": "stream",
          "text": [
            "100%|██████████| 1302/1302 [07:24<00:00,  2.93it/s]\n"
          ]
        },
        {
          "name": "stdout",
          "output_type": "stream",
          "text": [
            "Train Loss: 0.1602 | Val Loss: 0.1902 | Val Acc: 0.9338\n",
            "Saved best model.\n",
            "\n",
            "Epoch 17/20\n"
          ]
        },
        {
          "name": "stderr",
          "output_type": "stream",
          "text": [
            "100%|██████████| 1302/1302 [07:20<00:00,  2.95it/s]\n"
          ]
        },
        {
          "name": "stdout",
          "output_type": "stream",
          "text": [
            "Train Loss: 0.1568 | Val Loss: 0.1893 | Val Acc: 0.9341\n",
            "Saved best model.\n",
            "\n",
            "Epoch 18/20\n"
          ]
        },
        {
          "name": "stderr",
          "output_type": "stream",
          "text": [
            "100%|██████████| 1302/1302 [07:29<00:00,  2.90it/s]\n"
          ]
        },
        {
          "name": "stdout",
          "output_type": "stream",
          "text": [
            "Train Loss: 0.1552 | Val Loss: 0.1856 | Val Acc: 0.9345\n",
            "Saved best model.\n",
            "\n",
            "Epoch 19/20\n"
          ]
        },
        {
          "name": "stderr",
          "output_type": "stream",
          "text": [
            "100%|██████████| 1302/1302 [07:24<00:00,  2.93it/s]\n"
          ]
        },
        {
          "name": "stdout",
          "output_type": "stream",
          "text": [
            "Train Loss: 0.1532 | Val Loss: 0.1876 | Val Acc: 0.9345\n",
            "\n",
            "Epoch 20/20\n"
          ]
        },
        {
          "name": "stderr",
          "output_type": "stream",
          "text": [
            "100%|██████████| 1302/1302 [07:21<00:00,  2.95it/s]\n"
          ]
        },
        {
          "name": "stdout",
          "output_type": "stream",
          "text": [
            "Train Loss: 0.1517 | Val Loss: 0.1896 | Val Acc: 0.9336\n"
          ]
        }
      ],
      "source": [
        "num_epochs = 20\n",
        "best_val_loss = float('inf')\n",
        "\n",
        "for epoch in range(num_epochs):\n",
        "    print(f\"\\nEpoch {epoch + 1}/{num_epochs}\")\n",
        "\n",
        "    train_loss = train_one_epoch(model, train_loader, optimizer, loss_fn)\n",
        "    val_loss, val_acc = validate(model, val_loader, loss_fn)\n",
        "\n",
        "    print(f\"Train Loss: {train_loss:.4f} | Val Loss: {val_loss:.4f} | Val Acc: {val_acc:.4f}\")\n",
        "\n",
        "    if val_loss < best_val_loss:\n",
        "        best_val_loss = val_loss\n",
        "        torch.save(model.state_dict(), \"best_model.pth\")\n",
        "        print(\"Saved best model.\")\n",
        "\n",
        "    scheduler.step()"
      ]
    },
    {
      "cell_type": "code",
      "execution_count": null,
      "metadata": {
        "colab": {
          "base_uri": "https://localhost:8080/",
          "height": 34
        },
        "id": "09TYBK-iB99P",
        "outputId": "7a6ec8f9-90bf-454f-9fbc-d463efe692f8"
      },
      "outputs": [
        {
          "data": {
            "application/javascript": [
              "\n",
              "    async function download(id, filename, size) {\n",
              "      if (!google.colab.kernel.accessAllowed) {\n",
              "        return;\n",
              "      }\n",
              "      const div = document.createElement('div');\n",
              "      const label = document.createElement('label');\n",
              "      label.textContent = `Downloading \"${filename}\": `;\n",
              "      div.appendChild(label);\n",
              "      const progress = document.createElement('progress');\n",
              "      progress.max = size;\n",
              "      div.appendChild(progress);\n",
              "      document.body.appendChild(div);\n",
              "\n",
              "      const buffers = [];\n",
              "      let downloaded = 0;\n",
              "\n",
              "      const channel = await google.colab.kernel.comms.open(id);\n",
              "      // Send a message to notify the kernel that we're ready.\n",
              "      channel.send({})\n",
              "\n",
              "      for await (const message of channel.messages) {\n",
              "        // Send a message to notify the kernel that we're ready.\n",
              "        channel.send({})\n",
              "        if (message.buffers) {\n",
              "          for (const buffer of message.buffers) {\n",
              "            buffers.push(buffer);\n",
              "            downloaded += buffer.byteLength;\n",
              "            progress.value = downloaded;\n",
              "          }\n",
              "        }\n",
              "      }\n",
              "      const blob = new Blob(buffers, {type: 'application/binary'});\n",
              "      const a = document.createElement('a');\n",
              "      a.href = window.URL.createObjectURL(blob);\n",
              "      a.download = filename;\n",
              "      div.appendChild(a);\n",
              "      a.click();\n",
              "      div.remove();\n",
              "    }\n",
              "  "
            ],
            "text/plain": [
              "<IPython.core.display.Javascript object>"
            ]
          },
          "metadata": {},
          "output_type": "display_data"
        },
        {
          "data": {
            "application/javascript": [
              "download(\"download_6582a2ae-61de-45e6-84ae-5c437ba02055\", \"best_model.pth\", 89807564)"
            ],
            "text/plain": [
              "<IPython.core.display.Javascript object>"
            ]
          },
          "metadata": {},
          "output_type": "display_data"
        }
      ],
      "source": [
        "from google.colab import files\n",
        "files.download(\"best_model.pth\")"
      ]
    },
    {
      "cell_type": "code",
      "execution_count": null,
      "metadata": {
        "id": "I96zEsL1CVxM"
      },
      "outputs": [],
      "source": [
        "CLASS_COLORS = {\n",
        "    0: (0, 0, 0),         # background (black)\n",
        "    1: (0, 255, 0),       # grass (green)\n",
        "    2: (0, 0, 255),       # water (blue)\n",
        "    3: (255, 0, 0),       # rocks (red)\n",
        "    4: (255, 255, 0)      # mud/others (yellow)\n",
        "}"
      ]
    },
    {
      "cell_type": "code",
      "execution_count": null,
      "metadata": {
        "id": "8wnPB-CnCbe0"
      },
      "outputs": [],
      "source": [
        "import numpy as np\n",
        "\n",
        "def decode_segmap(mask):\n",
        "    h, w = mask.shape\n",
        "    color_mask = np.zeros((h, w, 3), dtype=np.uint8)\n",
        "    for class_id, color in CLASS_COLORS.items():\n",
        "        color_mask[mask == class_id] = color\n",
        "    return color_mask"
      ]
    },
    {
      "cell_type": "code",
      "execution_count": null,
      "metadata": {
        "colab": {
          "base_uri": "https://localhost:8080/"
        },
        "id": "oC9SVuwdCe5C",
        "outputId": "17df3b94-947f-418b-9b94-036cabc8bde7"
      },
      "outputs": [
        {
          "data": {
            "text/plain": [
              "DeepLabV3Plus(\n",
              "  (encoder): ResNetEncoder(\n",
              "    (conv1): Conv2d(3, 64, kernel_size=(7, 7), stride=(2, 2), padding=(3, 3), bias=False)\n",
              "    (bn1): GroupNorm(32, 64, eps=1e-05, affine=True)\n",
              "    (relu): ReLU(inplace=True)\n",
              "    (maxpool): MaxPool2d(kernel_size=3, stride=2, padding=1, dilation=1, ceil_mode=False)\n",
              "    (layer1): Sequential(\n",
              "      (0): BasicBlock(\n",
              "        (conv1): Conv2d(64, 64, kernel_size=(3, 3), stride=(1, 1), padding=(1, 1), bias=False)\n",
              "        (bn1): GroupNorm(32, 64, eps=1e-05, affine=True)\n",
              "        (relu): ReLU(inplace=True)\n",
              "        (conv2): Conv2d(64, 64, kernel_size=(3, 3), stride=(1, 1), padding=(1, 1), bias=False)\n",
              "        (bn2): GroupNorm(32, 64, eps=1e-05, affine=True)\n",
              "      )\n",
              "      (1): BasicBlock(\n",
              "        (conv1): Conv2d(64, 64, kernel_size=(3, 3), stride=(1, 1), padding=(1, 1), bias=False)\n",
              "        (bn1): GroupNorm(32, 64, eps=1e-05, affine=True)\n",
              "        (relu): ReLU(inplace=True)\n",
              "        (conv2): Conv2d(64, 64, kernel_size=(3, 3), stride=(1, 1), padding=(1, 1), bias=False)\n",
              "        (bn2): GroupNorm(32, 64, eps=1e-05, affine=True)\n",
              "      )\n",
              "      (2): BasicBlock(\n",
              "        (conv1): Conv2d(64, 64, kernel_size=(3, 3), stride=(1, 1), padding=(1, 1), bias=False)\n",
              "        (bn1): GroupNorm(32, 64, eps=1e-05, affine=True)\n",
              "        (relu): ReLU(inplace=True)\n",
              "        (conv2): Conv2d(64, 64, kernel_size=(3, 3), stride=(1, 1), padding=(1, 1), bias=False)\n",
              "        (bn2): GroupNorm(32, 64, eps=1e-05, affine=True)\n",
              "      )\n",
              "    )\n",
              "    (layer2): Sequential(\n",
              "      (0): BasicBlock(\n",
              "        (conv1): Conv2d(64, 128, kernel_size=(3, 3), stride=(2, 2), padding=(1, 1), bias=False)\n",
              "        (bn1): GroupNorm(32, 128, eps=1e-05, affine=True)\n",
              "        (relu): ReLU(inplace=True)\n",
              "        (conv2): Conv2d(128, 128, kernel_size=(3, 3), stride=(1, 1), padding=(1, 1), bias=False)\n",
              "        (bn2): GroupNorm(32, 128, eps=1e-05, affine=True)\n",
              "        (downsample): Sequential(\n",
              "          (0): Conv2d(64, 128, kernel_size=(1, 1), stride=(2, 2), bias=False)\n",
              "          (1): GroupNorm(32, 128, eps=1e-05, affine=True)\n",
              "        )\n",
              "      )\n",
              "      (1): BasicBlock(\n",
              "        (conv1): Conv2d(128, 128, kernel_size=(3, 3), stride=(1, 1), padding=(1, 1), bias=False)\n",
              "        (bn1): GroupNorm(32, 128, eps=1e-05, affine=True)\n",
              "        (relu): ReLU(inplace=True)\n",
              "        (conv2): Conv2d(128, 128, kernel_size=(3, 3), stride=(1, 1), padding=(1, 1), bias=False)\n",
              "        (bn2): GroupNorm(32, 128, eps=1e-05, affine=True)\n",
              "      )\n",
              "      (2): BasicBlock(\n",
              "        (conv1): Conv2d(128, 128, kernel_size=(3, 3), stride=(1, 1), padding=(1, 1), bias=False)\n",
              "        (bn1): GroupNorm(32, 128, eps=1e-05, affine=True)\n",
              "        (relu): ReLU(inplace=True)\n",
              "        (conv2): Conv2d(128, 128, kernel_size=(3, 3), stride=(1, 1), padding=(1, 1), bias=False)\n",
              "        (bn2): GroupNorm(32, 128, eps=1e-05, affine=True)\n",
              "      )\n",
              "      (3): BasicBlock(\n",
              "        (conv1): Conv2d(128, 128, kernel_size=(3, 3), stride=(1, 1), padding=(1, 1), bias=False)\n",
              "        (bn1): GroupNorm(32, 128, eps=1e-05, affine=True)\n",
              "        (relu): ReLU(inplace=True)\n",
              "        (conv2): Conv2d(128, 128, kernel_size=(3, 3), stride=(1, 1), padding=(1, 1), bias=False)\n",
              "        (bn2): GroupNorm(32, 128, eps=1e-05, affine=True)\n",
              "      )\n",
              "    )\n",
              "    (layer3): Sequential(\n",
              "      (0): BasicBlock(\n",
              "        (conv1): Conv2d(128, 256, kernel_size=(3, 3), stride=(2, 2), padding=(1, 1), bias=False)\n",
              "        (bn1): GroupNorm(32, 256, eps=1e-05, affine=True)\n",
              "        (relu): ReLU(inplace=True)\n",
              "        (conv2): Conv2d(256, 256, kernel_size=(3, 3), stride=(1, 1), padding=(1, 1), bias=False)\n",
              "        (bn2): GroupNorm(32, 256, eps=1e-05, affine=True)\n",
              "        (downsample): Sequential(\n",
              "          (0): Conv2d(128, 256, kernel_size=(1, 1), stride=(2, 2), bias=False)\n",
              "          (1): GroupNorm(32, 256, eps=1e-05, affine=True)\n",
              "        )\n",
              "      )\n",
              "      (1): BasicBlock(\n",
              "        (conv1): Conv2d(256, 256, kernel_size=(3, 3), stride=(1, 1), padding=(1, 1), bias=False)\n",
              "        (bn1): GroupNorm(32, 256, eps=1e-05, affine=True)\n",
              "        (relu): ReLU(inplace=True)\n",
              "        (conv2): Conv2d(256, 256, kernel_size=(3, 3), stride=(1, 1), padding=(1, 1), bias=False)\n",
              "        (bn2): GroupNorm(32, 256, eps=1e-05, affine=True)\n",
              "      )\n",
              "      (2): BasicBlock(\n",
              "        (conv1): Conv2d(256, 256, kernel_size=(3, 3), stride=(1, 1), padding=(1, 1), bias=False)\n",
              "        (bn1): GroupNorm(32, 256, eps=1e-05, affine=True)\n",
              "        (relu): ReLU(inplace=True)\n",
              "        (conv2): Conv2d(256, 256, kernel_size=(3, 3), stride=(1, 1), padding=(1, 1), bias=False)\n",
              "        (bn2): GroupNorm(32, 256, eps=1e-05, affine=True)\n",
              "      )\n",
              "      (3): BasicBlock(\n",
              "        (conv1): Conv2d(256, 256, kernel_size=(3, 3), stride=(1, 1), padding=(1, 1), bias=False)\n",
              "        (bn1): GroupNorm(32, 256, eps=1e-05, affine=True)\n",
              "        (relu): ReLU(inplace=True)\n",
              "        (conv2): Conv2d(256, 256, kernel_size=(3, 3), stride=(1, 1), padding=(1, 1), bias=False)\n",
              "        (bn2): GroupNorm(32, 256, eps=1e-05, affine=True)\n",
              "      )\n",
              "      (4): BasicBlock(\n",
              "        (conv1): Conv2d(256, 256, kernel_size=(3, 3), stride=(1, 1), padding=(1, 1), bias=False)\n",
              "        (bn1): GroupNorm(32, 256, eps=1e-05, affine=True)\n",
              "        (relu): ReLU(inplace=True)\n",
              "        (conv2): Conv2d(256, 256, kernel_size=(3, 3), stride=(1, 1), padding=(1, 1), bias=False)\n",
              "        (bn2): GroupNorm(32, 256, eps=1e-05, affine=True)\n",
              "      )\n",
              "      (5): BasicBlock(\n",
              "        (conv1): Conv2d(256, 256, kernel_size=(3, 3), stride=(1, 1), padding=(1, 1), bias=False)\n",
              "        (bn1): GroupNorm(32, 256, eps=1e-05, affine=True)\n",
              "        (relu): ReLU(inplace=True)\n",
              "        (conv2): Conv2d(256, 256, kernel_size=(3, 3), stride=(1, 1), padding=(1, 1), bias=False)\n",
              "        (bn2): GroupNorm(32, 256, eps=1e-05, affine=True)\n",
              "      )\n",
              "    )\n",
              "    (layer4): Sequential(\n",
              "      (0): BasicBlock(\n",
              "        (conv1): Conv2d(256, 512, kernel_size=(3, 3), stride=(1, 1), padding=(2, 2), dilation=(2, 2), bias=False)\n",
              "        (bn1): GroupNorm(32, 512, eps=1e-05, affine=True)\n",
              "        (relu): ReLU(inplace=True)\n",
              "        (conv2): Conv2d(512, 512, kernel_size=(3, 3), stride=(1, 1), padding=(2, 2), dilation=(2, 2), bias=False)\n",
              "        (bn2): GroupNorm(32, 512, eps=1e-05, affine=True)\n",
              "        (downsample): Sequential(\n",
              "          (0): Conv2d(256, 512, kernel_size=(1, 1), stride=(1, 1), dilation=(2, 2), bias=False)\n",
              "          (1): GroupNorm(32, 512, eps=1e-05, affine=True)\n",
              "        )\n",
              "      )\n",
              "      (1): BasicBlock(\n",
              "        (conv1): Conv2d(512, 512, kernel_size=(3, 3), stride=(1, 1), padding=(2, 2), dilation=(2, 2), bias=False)\n",
              "        (bn1): GroupNorm(32, 512, eps=1e-05, affine=True)\n",
              "        (relu): ReLU(inplace=True)\n",
              "        (conv2): Conv2d(512, 512, kernel_size=(3, 3), stride=(1, 1), padding=(2, 2), dilation=(2, 2), bias=False)\n",
              "        (bn2): GroupNorm(32, 512, eps=1e-05, affine=True)\n",
              "      )\n",
              "      (2): BasicBlock(\n",
              "        (conv1): Conv2d(512, 512, kernel_size=(3, 3), stride=(1, 1), padding=(2, 2), dilation=(2, 2), bias=False)\n",
              "        (bn1): GroupNorm(32, 512, eps=1e-05, affine=True)\n",
              "        (relu): ReLU(inplace=True)\n",
              "        (conv2): Conv2d(512, 512, kernel_size=(3, 3), stride=(1, 1), padding=(2, 2), dilation=(2, 2), bias=False)\n",
              "        (bn2): GroupNorm(32, 512, eps=1e-05, affine=True)\n",
              "      )\n",
              "    )\n",
              "  )\n",
              "  (decoder): DeepLabV3PlusDecoder(\n",
              "    (aspp): Sequential(\n",
              "      (0): ASPP(\n",
              "        (convs): ModuleList(\n",
              "          (0): Sequential(\n",
              "            (0): Conv2d(512, 256, kernel_size=(1, 1), stride=(1, 1), bias=False)\n",
              "            (1): GroupNorm(32, 256, eps=1e-05, affine=True)\n",
              "            (2): ReLU()\n",
              "          )\n",
              "          (1): ASPPSeparableConv(\n",
              "            (0): SeparableConv2d(\n",
              "              (0): Conv2d(512, 512, kernel_size=(3, 3), stride=(1, 1), padding=(12, 12), dilation=(12, 12), groups=512, bias=False)\n",
              "              (1): Conv2d(512, 256, kernel_size=(1, 1), stride=(1, 1), bias=False)\n",
              "            )\n",
              "            (1): GroupNorm(32, 256, eps=1e-05, affine=True)\n",
              "            (2): ReLU()\n",
              "          )\n",
              "          (2): ASPPSeparableConv(\n",
              "            (0): SeparableConv2d(\n",
              "              (0): Conv2d(512, 512, kernel_size=(3, 3), stride=(1, 1), padding=(24, 24), dilation=(24, 24), groups=512, bias=False)\n",
              "              (1): Conv2d(512, 256, kernel_size=(1, 1), stride=(1, 1), bias=False)\n",
              "            )\n",
              "            (1): GroupNorm(32, 256, eps=1e-05, affine=True)\n",
              "            (2): ReLU()\n",
              "          )\n",
              "          (3): ASPPSeparableConv(\n",
              "            (0): SeparableConv2d(\n",
              "              (0): Conv2d(512, 512, kernel_size=(3, 3), stride=(1, 1), padding=(36, 36), dilation=(36, 36), groups=512, bias=False)\n",
              "              (1): Conv2d(512, 256, kernel_size=(1, 1), stride=(1, 1), bias=False)\n",
              "            )\n",
              "            (1): GroupNorm(32, 256, eps=1e-05, affine=True)\n",
              "            (2): ReLU()\n",
              "          )\n",
              "          (4): ASPPPooling(\n",
              "            (0): AdaptiveAvgPool2d(output_size=1)\n",
              "            (1): Conv2d(512, 256, kernel_size=(1, 1), stride=(1, 1), bias=False)\n",
              "            (2): GroupNorm(32, 256, eps=1e-05, affine=True)\n",
              "            (3): ReLU()\n",
              "          )\n",
              "        )\n",
              "        (project): Sequential(\n",
              "          (0): Conv2d(1280, 256, kernel_size=(1, 1), stride=(1, 1), bias=False)\n",
              "          (1): GroupNorm(32, 256, eps=1e-05, affine=True)\n",
              "          (2): ReLU()\n",
              "          (3): Dropout(p=0.5, inplace=False)\n",
              "        )\n",
              "      )\n",
              "      (1): SeparableConv2d(\n",
              "        (0): Conv2d(256, 256, kernel_size=(3, 3), stride=(1, 1), padding=(1, 1), groups=256, bias=False)\n",
              "        (1): Conv2d(256, 256, kernel_size=(1, 1), stride=(1, 1), bias=False)\n",
              "      )\n",
              "      (2): GroupNorm(32, 256, eps=1e-05, affine=True)\n",
              "      (3): ReLU()\n",
              "    )\n",
              "    (up): UpsamplingBilinear2d(scale_factor=4.0, mode='bilinear')\n",
              "    (block1): Sequential(\n",
              "      (0): Conv2d(64, 48, kernel_size=(1, 1), stride=(1, 1), bias=False)\n",
              "      (1): GroupNorm(16, 48, eps=1e-05, affine=True)\n",
              "      (2): ReLU()\n",
              "    )\n",
              "    (block2): Sequential(\n",
              "      (0): SeparableConv2d(\n",
              "        (0): Conv2d(304, 304, kernel_size=(3, 3), stride=(1, 1), padding=(1, 1), groups=304, bias=False)\n",
              "        (1): Conv2d(304, 256, kernel_size=(1, 1), stride=(1, 1), bias=False)\n",
              "      )\n",
              "      (1): GroupNorm(32, 256, eps=1e-05, affine=True)\n",
              "      (2): ReLU()\n",
              "    )\n",
              "  )\n",
              "  (segmentation_head): SegmentationHead(\n",
              "    (0): Conv2d(256, 5, kernel_size=(1, 1), stride=(1, 1))\n",
              "    (1): UpsamplingBilinear2d(scale_factor=4.0, mode='bilinear')\n",
              "    (2): Activation(\n",
              "      (activation): Identity()\n",
              "    )\n",
              "  )\n",
              ")"
            ]
          },
          "execution_count": 48,
          "metadata": {},
          "output_type": "execute_result"
        }
      ],
      "source": [
        "from torchvision.transforms.functional import to_pil_image\n",
        "import matplotlib.pyplot as plt\n",
        "import torch\n",
        "from PIL import Image\n",
        "import torchvision.transforms as T\n",
        "\n",
        "model.load_state_dict(torch.load(\"best_model.pth\"))\n",
        "model.eval()\n",
        "model.to(device)"
      ]
    },
    {
      "cell_type": "code",
      "execution_count": null,
      "metadata": {
        "colab": {
          "background_save": true
        },
        "id": "ulFis2BECiJb"
      },
      "outputs": [],
      "source": [
        "sample_path = \"/content/dataset/raw/Park/park_001.jpg\"  # change as needed"
      ]
    },
    {
      "cell_type": "code",
      "execution_count": null,
      "metadata": {
        "colab": {
          "background_save": true
        },
        "id": "yrOGR0znCmMR"
      },
      "outputs": [],
      "source": [
        "img = Image.open(sample_path).convert('RGB').resize((512, 512))\n",
        "input_tensor = T.ToTensor()(img).unsqueeze(0).to(device)\n",
        "\n",
        "with torch.no_grad():\n",
        "    output = model(input_tensor)\n",
        "    pred = torch.argmax(output.squeeze(), dim=0).cpu().numpy()"
      ]
    }
  ],
  "metadata": {
    "accelerator": "GPU",
    "colab": {
      "gpuType": "T4",
      "provenance": []
    },
    "kernelspec": {
      "display_name": "Python 3",
      "name": "python3"
    },
    "language_info": {
      "name": "python"
    }
  },
  "nbformat": 4,
  "nbformat_minor": 0
}